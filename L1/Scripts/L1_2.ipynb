{
 "cells": [
  {
   "cell_type": "markdown",
   "id": "4f18e2d2-e05a-4c10-8b34-c6d77fb2d949",
   "metadata": {},
   "source": [
    "# CURSO :\n",
    "\n",
    "Analisis de la informacion de datos en R\n",
    "En el siguiente cuardo se desarrollara el tema de la brecha producto por trimestres\n",
    " - Periodo: 1980q1 - 2022q3"
   ]
  },
  {
   "cell_type": "markdown",
   "id": "c6960fbf-a02a-4b2c-805c-96750c8f8509",
   "metadata": {},
   "source": [
    "# Importar Data"
   ]
  },
  {
   "cell_type": "markdown",
   "id": "5057583a-4e4d-4c2f-894d-fef2e45bb1b7",
   "metadata": {},
   "source": [
    "## Carga de Librerias"
   ]
  },
  {
   "cell_type": "code",
   "execution_count": 1,
   "id": "68edacd4-e23d-4fde-9373-5a7c873e3128",
   "metadata": {},
   "outputs": [
    {
     "name": "stderr",
     "output_type": "stream",
     "text": [
      "\n",
      "Attaching package: 'dplyr'\n",
      "\n",
      "\n",
      "The following objects are masked from 'package:stats':\n",
      "\n",
      "    filter, lag\n",
      "\n",
      "\n",
      "The following objects are masked from 'package:base':\n",
      "\n",
      "    intersect, setdiff, setequal, union\n",
      "\n",
      "\n",
      "Loading required package: openxlsx\n",
      "\n"
     ]
    }
   ],
   "source": [
    "library(dplyr)\n",
    "library(readr)\n",
    "library(readxl)\n",
    "require(openxlsx)"
   ]
  },
  {
   "cell_type": "markdown",
   "id": "8c1cea5a-2ed7-4f78-8f3d-b796632d3cb8",
   "metadata": {},
   "source": [
    "## Ruta de carpeta"
   ]
  },
  {
   "cell_type": "code",
   "execution_count": 2,
   "id": "80defa5a-ab30-49cc-a58b-053a26d15f01",
   "metadata": {},
   "outputs": [],
   "source": [
    "# Se define la informacion de una ruta de carpeta\n",
    "ruta = 'D:/Dropbox/Docencia/UPN/Estadistica/Software/L1'\n",
    "\n",
    "# Se cambia la informacion de la ruta con el comando: os.chdir()\n",
    "setwd(ruta)"
   ]
  },
  {
   "cell_type": "markdown",
   "id": "4e098d91-f974-4f1c-b29e-bd69d539703b",
   "metadata": {},
   "source": [
    "## Carga de Datos "
   ]
  },
  {
   "cell_type": "code",
   "execution_count": 3,
   "id": "66541dad-0ea4-4064-9636-0ec787f78c3e",
   "metadata": {},
   "outputs": [],
   "source": [
    "data = read_excel('pbi_q.xlsx')"
   ]
  },
  {
   "cell_type": "markdown",
   "id": "607a6dec-4004-4e99-9bcc-add91ddf44b3",
   "metadata": {},
   "source": [
    "# Medicicion de la Brechas Producto"
   ]
  },
  {
   "cell_type": "markdown",
   "id": "6f758596-e8d4-4e5e-a613-89806d74ad3e",
   "metadata": {},
   "source": [
    "## Uso de librerias "
   ]
  },
  {
   "cell_type": "code",
   "execution_count": 4,
   "id": "7823e2d4-7c42-41b2-a13d-b850c6248e7f",
   "metadata": {},
   "outputs": [
    {
     "name": "stderr",
     "output_type": "stream",
     "text": [
      "Installing package into 'C:/Users/edinson/Documents/R/win-library/4.1'\n",
      "(as 'lib' is unspecified)\n",
      "\n"
     ]
    },
    {
     "name": "stdout",
     "output_type": "stream",
     "text": [
      "package 'mFilter' successfully unpacked and MD5 sums checked\n",
      "\n",
      "The downloaded binary packages are in\n",
      "\tC:\\Users\\edinson\\AppData\\Local\\Temp\\RtmpKoWJgM\\downloaded_packages\n"
     ]
    }
   ],
   "source": [
    "install.packages(\"mFilter\")\n",
    "library(mFilter)"
   ]
  },
  {
   "cell_type": "code",
   "execution_count": 5,
   "id": "cd2e72b1-24a8-4f5a-91d8-9cc785f9cf61",
   "metadata": {
    "tags": [],
    "toc-hr-collapsed": true
   },
   "outputs": [
    {
     "data": {
      "text/html": [
       "<table class=\"dataframe\">\n",
       "<caption>A Time Series: 43 × 4</caption>\n",
       "<thead>\n",
       "\t<tr><th></th><th scope=col>Qtr1</th><th scope=col>Qtr2</th><th scope=col>Qtr3</th><th scope=col>Qtr4</th></tr>\n",
       "</thead>\n",
       "<tbody>\n",
       "\t<tr><th scope=row>1980</th><td> 36357.48</td><td> 43102.11</td><td> 42344.48</td><td> 45791.93</td></tr>\n",
       "\t<tr><th scope=row>1981</th><td> 39025.87</td><td> 45857.89</td><td> 45002.69</td><td> 47014.55</td></tr>\n",
       "\t<tr><th scope=row>1982</th><td> 40474.85</td><td> 46211.09</td><td> 43888.80</td><td> 45932.27</td></tr>\n",
       "\t<tr><th scope=row>1983</th><td> 36438.09</td><td> 41011.22</td><td> 39106.79</td><td> 41579.90</td></tr>\n",
       "\t<tr><th scope=row>1984</th><td> 35508.36</td><td> 41849.25</td><td> 41510.75</td><td> 44973.63</td></tr>\n",
       "\t<tr><th scope=row>1985</th><td> 39428.51</td><td> 43937.53</td><td> 40849.15</td><td> 43003.81</td></tr>\n",
       "\t<tr><th scope=row>1986</th><td> 38202.41</td><td> 46949.84</td><td> 47017.48</td><td> 50811.27</td></tr>\n",
       "\t<tr><th scope=row>1987</th><td> 44533.39</td><td> 51060.14</td><td> 51599.53</td><td> 53584.94</td></tr>\n",
       "\t<tr><th scope=row>1988</th><td> 43968.85</td><td> 49303.02</td><td> 46027.22</td><td> 42522.92</td></tr>\n",
       "\t<tr><th scope=row>1989</th><td> 35208.32</td><td> 39867.60</td><td> 40356.30</td><td> 44003.78</td></tr>\n",
       "\t<tr><th scope=row>1990</th><td> 40440.51</td><td> 40316.94</td><td> 33934.51</td><td> 36800.05</td></tr>\n",
       "\t<tr><th scope=row>1991</th><td> 36289.66</td><td> 40194.37</td><td> 39444.33</td><td> 38925.65</td></tr>\n",
       "\t<tr><th scope=row>1992</th><td> 38553.89</td><td> 39420.10</td><td> 36833.07</td><td> 39209.95</td></tr>\n",
       "\t<tr><th scope=row>1993</th><td> 38458.77</td><td> 41646.57</td><td> 40683.67</td><td> 41304.00</td></tr>\n",
       "\t<tr><th scope=row>1994</th><td> 43373.68</td><td> 46709.95</td><td> 45094.06</td><td> 46865.98</td></tr>\n",
       "\t<tr><th scope=row>1995</th><td> 47280.47</td><td> 50715.53</td><td> 48795.68</td><td> 48744.31</td></tr>\n",
       "\t<tr><th scope=row>1996</th><td> 47884.63</td><td> 51913.68</td><td> 50072.60</td><td> 51138.38</td></tr>\n",
       "\t<tr><th scope=row>1997</th><td> 50364.87</td><td> 56186.47</td><td> 53279.58</td><td> 54197.37</td></tr>\n",
       "\t<tr><th scope=row>1998</th><td> 51486.88</td><td> 54478.79</td><td> 53514.85</td><td> 53709.48</td></tr>\n",
       "\t<tr><th scope=row>1999</th><td> 51214.63</td><td> 55517.78</td><td> 53196.09</td><td> 56448.24</td></tr>\n",
       "\t<tr><th scope=row>2000</th><td> 54674.82</td><td> 58255.55</td><td> 54621.75</td><td> 54654.58</td></tr>\n",
       "\t<tr><th scope=row>2001</th><td> 51760.37</td><td> 58431.06</td><td> 56119.65</td><td> 57268.50</td></tr>\n",
       "\t<tr><th scope=row>2002</th><td> 55137.74</td><td> 62307.23</td><td> 58404.35</td><td> 59923.62</td></tr>\n",
       "\t<tr><th scope=row>2003</th><td> 58249.27</td><td> 65202.49</td><td> 60551.68</td><td> 61589.17</td></tr>\n",
       "\t<tr><th scope=row>2004</th><td> 60913.82</td><td> 67639.71</td><td> 63145.75</td><td> 66070.50</td></tr>\n",
       "\t<tr><th scope=row>2005</th><td> 64340.89</td><td> 71310.37</td><td> 67229.83</td><td> 71090.07</td></tr>\n",
       "\t<tr><th scope=row>2006</th><td> 69670.76</td><td> 75823.94</td><td> 72806.27</td><td> 76296.86</td></tr>\n",
       "\t<tr><th scope=row>2007</th><td> 73354.13</td><td> 80625.96</td><td> 80699.62</td><td> 85013.29</td></tr>\n",
       "\t<tr><th scope=row>2008</th><td> 80796.32</td><td> 89117.71</td><td> 88430.24</td><td> 90525.73</td></tr>\n",
       "\t<tr><th scope=row>2009</th><td> 82892.21</td><td> 88463.96</td><td> 88341.33</td><td> 92995.50</td></tr>\n",
       "\t<tr><th scope=row>2010</th><td> 87436.71</td><td> 96793.12</td><td> 96794.99</td><td>101056.17</td></tr>\n",
       "\t<tr><th scope=row>2011</th><td> 94793.51</td><td>101908.28</td><td>102420.28</td><td>107133.93</td></tr>\n",
       "\t<tr><th scope=row>2012</th><td>100586.01</td><td>107915.02</td><td>109610.69</td><td>113087.28</td></tr>\n",
       "\t<tr><th scope=row>2013</th><td>105593.27</td><td>114674.70</td><td>115339.65</td><td>120827.38</td></tr>\n",
       "\t<tr><th scope=row>2014</th><td>110826.36</td><td>116921.68</td><td>117442.52</td><td>122117.43</td></tr>\n",
       "\t<tr><th scope=row>2015</th><td>112963.89</td><td>120632.76</td><td>121148.69</td><td>127760.66</td></tr>\n",
       "\t<tr><th scope=row>2016</th><td>118033.10</td><td>125148.58</td><td>126735.89</td><td>131663.43</td></tr>\n",
       "\t<tr><th scope=row>2017</th><td>120742.50</td><td>128457.11</td><td>130293.87</td><td>134721.52</td></tr>\n",
       "\t<tr><th scope=row>2018</th><td>124518.96</td><td>135636.23</td><td>133522.02</td><td>140987.79</td></tr>\n",
       "\t<tr><th scope=row>2019</th><td>127552.58</td><td>137222.60</td><td>138013.20</td><td>143816.62</td></tr>\n",
       "\t<tr><th scope=row>2020</th><td>122542.94</td><td> 96143.16</td><td>125840.33</td><td>141875.66</td></tr>\n",
       "\t<tr><th scope=row>2021</th><td>128130.11</td><td>136486.77</td><td>140863.76</td><td>146831.51</td></tr>\n",
       "\t<tr><th scope=row>2022</th><td>133010.88</td><td>141033.69</td><td>143213.45</td><td>         </td></tr>\n",
       "</tbody>\n",
       "</table>\n"
      ],
      "text/latex": [
       "A Time Series: 43 × 4\n",
       "\\begin{tabular}{r|llll}\n",
       "  & Qtr1 & Qtr2 & Qtr3 & Qtr4\\\\\n",
       "\\hline\n",
       "\t1980 &  36357.48 &  43102.11 &  42344.48 &  45791.93\\\\\n",
       "\t1981 &  39025.87 &  45857.89 &  45002.69 &  47014.55\\\\\n",
       "\t1982 &  40474.85 &  46211.09 &  43888.80 &  45932.27\\\\\n",
       "\t1983 &  36438.09 &  41011.22 &  39106.79 &  41579.90\\\\\n",
       "\t1984 &  35508.36 &  41849.25 &  41510.75 &  44973.63\\\\\n",
       "\t1985 &  39428.51 &  43937.53 &  40849.15 &  43003.81\\\\\n",
       "\t1986 &  38202.41 &  46949.84 &  47017.48 &  50811.27\\\\\n",
       "\t1987 &  44533.39 &  51060.14 &  51599.53 &  53584.94\\\\\n",
       "\t1988 &  43968.85 &  49303.02 &  46027.22 &  42522.92\\\\\n",
       "\t1989 &  35208.32 &  39867.60 &  40356.30 &  44003.78\\\\\n",
       "\t1990 &  40440.51 &  40316.94 &  33934.51 &  36800.05\\\\\n",
       "\t1991 &  36289.66 &  40194.37 &  39444.33 &  38925.65\\\\\n",
       "\t1992 &  38553.89 &  39420.10 &  36833.07 &  39209.95\\\\\n",
       "\t1993 &  38458.77 &  41646.57 &  40683.67 &  41304.00\\\\\n",
       "\t1994 &  43373.68 &  46709.95 &  45094.06 &  46865.98\\\\\n",
       "\t1995 &  47280.47 &  50715.53 &  48795.68 &  48744.31\\\\\n",
       "\t1996 &  47884.63 &  51913.68 &  50072.60 &  51138.38\\\\\n",
       "\t1997 &  50364.87 &  56186.47 &  53279.58 &  54197.37\\\\\n",
       "\t1998 &  51486.88 &  54478.79 &  53514.85 &  53709.48\\\\\n",
       "\t1999 &  51214.63 &  55517.78 &  53196.09 &  56448.24\\\\\n",
       "\t2000 &  54674.82 &  58255.55 &  54621.75 &  54654.58\\\\\n",
       "\t2001 &  51760.37 &  58431.06 &  56119.65 &  57268.50\\\\\n",
       "\t2002 &  55137.74 &  62307.23 &  58404.35 &  59923.62\\\\\n",
       "\t2003 &  58249.27 &  65202.49 &  60551.68 &  61589.17\\\\\n",
       "\t2004 &  60913.82 &  67639.71 &  63145.75 &  66070.50\\\\\n",
       "\t2005 &  64340.89 &  71310.37 &  67229.83 &  71090.07\\\\\n",
       "\t2006 &  69670.76 &  75823.94 &  72806.27 &  76296.86\\\\\n",
       "\t2007 &  73354.13 &  80625.96 &  80699.62 &  85013.29\\\\\n",
       "\t2008 &  80796.32 &  89117.71 &  88430.24 &  90525.73\\\\\n",
       "\t2009 &  82892.21 &  88463.96 &  88341.33 &  92995.50\\\\\n",
       "\t2010 &  87436.71 &  96793.12 &  96794.99 & 101056.17\\\\\n",
       "\t2011 &  94793.51 & 101908.28 & 102420.28 & 107133.93\\\\\n",
       "\t2012 & 100586.01 & 107915.02 & 109610.69 & 113087.28\\\\\n",
       "\t2013 & 105593.27 & 114674.70 & 115339.65 & 120827.38\\\\\n",
       "\t2014 & 110826.36 & 116921.68 & 117442.52 & 122117.43\\\\\n",
       "\t2015 & 112963.89 & 120632.76 & 121148.69 & 127760.66\\\\\n",
       "\t2016 & 118033.10 & 125148.58 & 126735.89 & 131663.43\\\\\n",
       "\t2017 & 120742.50 & 128457.11 & 130293.87 & 134721.52\\\\\n",
       "\t2018 & 124518.96 & 135636.23 & 133522.02 & 140987.79\\\\\n",
       "\t2019 & 127552.58 & 137222.60 & 138013.20 & 143816.62\\\\\n",
       "\t2020 & 122542.94 &  96143.16 & 125840.33 & 141875.66\\\\\n",
       "\t2021 & 128130.11 & 136486.77 & 140863.76 & 146831.51\\\\\n",
       "\t2022 & 133010.88 & 141033.69 & 143213.45 &          \\\\\n",
       "\\end{tabular}\n"
      ],
      "text/markdown": [
       "\n",
       "A Time Series: 43 × 4\n",
       "\n",
       "| <!--/--> | Qtr1 | Qtr2 | Qtr3 | Qtr4 |\n",
       "|---|---|---|---|---|\n",
       "| 1980 |  36357.48 |  43102.11 |  42344.48 |  45791.93 |\n",
       "| 1981 |  39025.87 |  45857.89 |  45002.69 |  47014.55 |\n",
       "| 1982 |  40474.85 |  46211.09 |  43888.80 |  45932.27 |\n",
       "| 1983 |  36438.09 |  41011.22 |  39106.79 |  41579.90 |\n",
       "| 1984 |  35508.36 |  41849.25 |  41510.75 |  44973.63 |\n",
       "| 1985 |  39428.51 |  43937.53 |  40849.15 |  43003.81 |\n",
       "| 1986 |  38202.41 |  46949.84 |  47017.48 |  50811.27 |\n",
       "| 1987 |  44533.39 |  51060.14 |  51599.53 |  53584.94 |\n",
       "| 1988 |  43968.85 |  49303.02 |  46027.22 |  42522.92 |\n",
       "| 1989 |  35208.32 |  39867.60 |  40356.30 |  44003.78 |\n",
       "| 1990 |  40440.51 |  40316.94 |  33934.51 |  36800.05 |\n",
       "| 1991 |  36289.66 |  40194.37 |  39444.33 |  38925.65 |\n",
       "| 1992 |  38553.89 |  39420.10 |  36833.07 |  39209.95 |\n",
       "| 1993 |  38458.77 |  41646.57 |  40683.67 |  41304.00 |\n",
       "| 1994 |  43373.68 |  46709.95 |  45094.06 |  46865.98 |\n",
       "| 1995 |  47280.47 |  50715.53 |  48795.68 |  48744.31 |\n",
       "| 1996 |  47884.63 |  51913.68 |  50072.60 |  51138.38 |\n",
       "| 1997 |  50364.87 |  56186.47 |  53279.58 |  54197.37 |\n",
       "| 1998 |  51486.88 |  54478.79 |  53514.85 |  53709.48 |\n",
       "| 1999 |  51214.63 |  55517.78 |  53196.09 |  56448.24 |\n",
       "| 2000 |  54674.82 |  58255.55 |  54621.75 |  54654.58 |\n",
       "| 2001 |  51760.37 |  58431.06 |  56119.65 |  57268.50 |\n",
       "| 2002 |  55137.74 |  62307.23 |  58404.35 |  59923.62 |\n",
       "| 2003 |  58249.27 |  65202.49 |  60551.68 |  61589.17 |\n",
       "| 2004 |  60913.82 |  67639.71 |  63145.75 |  66070.50 |\n",
       "| 2005 |  64340.89 |  71310.37 |  67229.83 |  71090.07 |\n",
       "| 2006 |  69670.76 |  75823.94 |  72806.27 |  76296.86 |\n",
       "| 2007 |  73354.13 |  80625.96 |  80699.62 |  85013.29 |\n",
       "| 2008 |  80796.32 |  89117.71 |  88430.24 |  90525.73 |\n",
       "| 2009 |  82892.21 |  88463.96 |  88341.33 |  92995.50 |\n",
       "| 2010 |  87436.71 |  96793.12 |  96794.99 | 101056.17 |\n",
       "| 2011 |  94793.51 | 101908.28 | 102420.28 | 107133.93 |\n",
       "| 2012 | 100586.01 | 107915.02 | 109610.69 | 113087.28 |\n",
       "| 2013 | 105593.27 | 114674.70 | 115339.65 | 120827.38 |\n",
       "| 2014 | 110826.36 | 116921.68 | 117442.52 | 122117.43 |\n",
       "| 2015 | 112963.89 | 120632.76 | 121148.69 | 127760.66 |\n",
       "| 2016 | 118033.10 | 125148.58 | 126735.89 | 131663.43 |\n",
       "| 2017 | 120742.50 | 128457.11 | 130293.87 | 134721.52 |\n",
       "| 2018 | 124518.96 | 135636.23 | 133522.02 | 140987.79 |\n",
       "| 2019 | 127552.58 | 137222.60 | 138013.20 | 143816.62 |\n",
       "| 2020 | 122542.94 |  96143.16 | 125840.33 | 141875.66 |\n",
       "| 2021 | 128130.11 | 136486.77 | 140863.76 | 146831.51 |\n",
       "| 2022 | 133010.88 | 141033.69 | 143213.45 | <!----> |\n",
       "\n"
      ],
      "text/plain": [
       "     Qtr1      Qtr2      Qtr3      Qtr4     \n",
       "1980  36357.48  43102.11  42344.48  45791.93\n",
       "1981  39025.87  45857.89  45002.69  47014.55\n",
       "1982  40474.85  46211.09  43888.80  45932.27\n",
       "1983  36438.09  41011.22  39106.79  41579.90\n",
       "1984  35508.36  41849.25  41510.75  44973.63\n",
       "1985  39428.51  43937.53  40849.15  43003.81\n",
       "1986  38202.41  46949.84  47017.48  50811.27\n",
       "1987  44533.39  51060.14  51599.53  53584.94\n",
       "1988  43968.85  49303.02  46027.22  42522.92\n",
       "1989  35208.32  39867.60  40356.30  44003.78\n",
       "1990  40440.51  40316.94  33934.51  36800.05\n",
       "1991  36289.66  40194.37  39444.33  38925.65\n",
       "1992  38553.89  39420.10  36833.07  39209.95\n",
       "1993  38458.77  41646.57  40683.67  41304.00\n",
       "1994  43373.68  46709.95  45094.06  46865.98\n",
       "1995  47280.47  50715.53  48795.68  48744.31\n",
       "1996  47884.63  51913.68  50072.60  51138.38\n",
       "1997  50364.87  56186.47  53279.58  54197.37\n",
       "1998  51486.88  54478.79  53514.85  53709.48\n",
       "1999  51214.63  55517.78  53196.09  56448.24\n",
       "2000  54674.82  58255.55  54621.75  54654.58\n",
       "2001  51760.37  58431.06  56119.65  57268.50\n",
       "2002  55137.74  62307.23  58404.35  59923.62\n",
       "2003  58249.27  65202.49  60551.68  61589.17\n",
       "2004  60913.82  67639.71  63145.75  66070.50\n",
       "2005  64340.89  71310.37  67229.83  71090.07\n",
       "2006  69670.76  75823.94  72806.27  76296.86\n",
       "2007  73354.13  80625.96  80699.62  85013.29\n",
       "2008  80796.32  89117.71  88430.24  90525.73\n",
       "2009  82892.21  88463.96  88341.33  92995.50\n",
       "2010  87436.71  96793.12  96794.99 101056.17\n",
       "2011  94793.51 101908.28 102420.28 107133.93\n",
       "2012 100586.01 107915.02 109610.69 113087.28\n",
       "2013 105593.27 114674.70 115339.65 120827.38\n",
       "2014 110826.36 116921.68 117442.52 122117.43\n",
       "2015 112963.89 120632.76 121148.69 127760.66\n",
       "2016 118033.10 125148.58 126735.89 131663.43\n",
       "2017 120742.50 128457.11 130293.87 134721.52\n",
       "2018 124518.96 135636.23 133522.02 140987.79\n",
       "2019 127552.58 137222.60 138013.20 143816.62\n",
       "2020 122542.94  96143.16 125840.33 141875.66\n",
       "2021 128130.11 136486.77 140863.76 146831.51\n",
       "2022 133010.88 141033.69 143213.45          "
      ]
     },
     "metadata": {},
     "output_type": "display_data"
    }
   ],
   "source": [
    "#?mFilter\n",
    "# Transformamos en series de tiempo la data de PBI\n",
    "pbi_a <- ts(data$pbi, frequency = 4, start = c(1980,1))\n",
    "pbi_a"
   ]
  },
  {
   "cell_type": "code",
   "execution_count": 6,
   "id": "f03542c8-c7e4-4219-9cb1-068094da64f3",
   "metadata": {},
   "outputs": [
    {
     "data": {
      "image/png": "[encoded data removed]",
      "text/plain": [
       "plot without title"
      ]
     },
     "metadata": {
      "image/png": {
       "height": 420,
       "width": 420
      }
     },
     "output_type": "display_data"
    }
   ],
   "source": [
    "lnpbi <- log(pbi_a)\n",
    "plot(lnpbi)"
   ]
  },
  {
   "cell_type": "markdown",
   "id": "b61852e7-0866-473e-9b00-3de4e6148677",
   "metadata": {},
   "source": [
    "## Desestacionalizar la Series"
   ]
  },
  {
   "cell_type": "code",
   "execution_count": 8,
   "id": "be1c6e41-af69-4d4d-a841-2c1cb6e7bc19",
   "metadata": {},
   "outputs": [
    {
     "data": {
      "image/png": "[encoded data removed]",
      "text/plain": [
       "Plot with title \"Original and Adjusted Series\""
      ]
     },
     "metadata": {
      "image/png": {
       "height": 420,
       "width": 420
      }
     },
     "output_type": "display_data"
    }
   ],
   "source": [
    "# desestacionalizar pbi\n",
    "#install.packages(\"seasonal\")\n",
    "library(seasonal)\n",
    "\n",
    "pbi_sa <- seas(pbi_a, x11= \"\")\n",
    "plot(pbi_sa)\n"
   ]
  },
  {
   "cell_type": "code",
   "execution_count": 9,
   "id": "967080ac-2d77-4c46-b05f-e4a4573d49e3",
   "metadata": {},
   "outputs": [
    {
     "data": {
      "image/png": "[encoded data removed]",
      "text/plain": [
       "plot without title"
      ]
     },
     "metadata": {
      "image/png": {
       "height": 420,
       "width": 420
      }
     },
     "output_type": "display_data"
    }
   ],
   "source": [
    "lnpbisa <- log(pbi_sa$data[,3]  )\n",
    "plot(lnpbisa)"
   ]
  },
  {
   "cell_type": "markdown",
   "id": "139570e5-71c0-4347-93b0-9b892e4935a1",
   "metadata": {},
   "source": [
    "## Aplicacion del filtro HP"
   ]
  },
  {
   "cell_type": "code",
   "execution_count": 10,
   "id": "d0902882-701b-4110-bfdf-4dee04dc84a7",
   "metadata": {},
   "outputs": [
    {
     "name": "stdout",
     "output_type": "stream",
     "text": [
      "\n",
      "Title:\n",
      " Hodrick-Prescott Filter \n",
      "\n",
      "Call:\n",
      " hpfilter(x = x, freq = ag$freq, type = ag$type, drift = ag$drift)\n",
      "\n",
      "Method:\n",
      " hpfilter\n",
      "\n",
      "Filter Type:\n",
      " lambda\n",
      "\n",
      "Series:\n",
      " lnpbisa\n",
      "\n",
      "Descriptive Statistics:\n",
      " \n",
      "    lnpbisa          Trend           Cycle           \n",
      " Min.   :10.44   Min.   :10.59   Min.   :-0.3200773  \n",
      " 1st Qu.:10.70   1st Qu.:10.67   1st Qu.:-0.0141360  \n",
      " Median :10.95   Median :10.95   Median :-0.0003189  \n",
      " Mean   :11.10   Mean   :11.10   Mean   : 0.0000000  \n",
      " 3rd Qu.:11.54   3rd Qu.:11.56   3rd Qu.: 0.0235355  \n",
      " Max.   :11.87   Max.   :11.84   Max.   : 0.1550850  \n",
      "\n",
      "In-sample error measures:\n",
      "        ME        MSE        MAE        MPE       MAPE \n",
      "-2.289e-19  2.377e-03  3.086e-02 -2.499e-05  2.830e-03 \n",
      "\n"
     ]
    }
   ],
   "source": [
    "lnpbisa_hp <- mFilter(lnpbisa, filter=\"HP\")\n",
    "#unemp.hp <- mFilter(unemp,filter=\"HP\")\n",
    "summary(lnpbisa_hp)"
   ]
  },
  {
   "cell_type": "markdown",
   "id": "9aa765bd-ce2f-4135-b878-13849b6564f2",
   "metadata": {},
   "source": [
    "## Extrayendo la tendencia"
   ]
  },
  {
   "cell_type": "code",
   "execution_count": 12,
   "id": "577d1577-8664-496d-97d8-75df56b43d91",
   "metadata": {},
   "outputs": [
    {
     "data": {
      "image/png": "[encoded data removed]",
      "text/plain": [
       "plot without title"
      ]
     },
     "metadata": {
      "image/png": {
       "height": 420,
       "width": 420
      }
     },
     "output_type": "display_data"
    }
   ],
   "source": [
    "lnpbitend <- lnpbisa_hp$trend\n",
    "plot(lnpbitend)\n",
    "lines(lnpbisa)"
   ]
  },
  {
   "cell_type": "markdown",
   "id": "2eee4d14-8a05-45aa-97b1-bb11b12614ad",
   "metadata": {},
   "source": [
    "## Calculo de la Brecha Producto"
   ]
  },
  {
   "cell_type": "code",
   "execution_count": 13,
   "id": "4adc4b26-081f-4a77-9896-05dfbfa8c62a",
   "metadata": {},
   "outputs": [
    {
     "data": {
      "image/png": "[encoded data removed]",
      "text/plain": [
       "plot without title"
      ]
     },
     "metadata": {
      "image/png": {
       "height": 420,
       "width": 420
      }
     },
     "output_type": "display_data"
    }
   ],
   "source": [
    "brecha <- exp(lnpbisa) - exp(lnpbitend)\n",
    "brecha_part <- (brecha / (pbi_a) )*100\n",
    "plot(brecha_part)"
   ]
  },
  {
   "cell_type": "code",
   "execution_count": 14,
   "id": "92e7eeb6-029e-490c-9445-bc8fe94533fc",
   "metadata": {},
   "outputs": [
    {
     "data": {
      "text/plain": [
       "    fecha                pbi             brecha        \n",
       " Length:171         Min.   : 33935   Min.   :-37.9029  \n",
       " Class :character   1st Qu.: 44988   1st Qu.: -1.4537  \n",
       " Mode  :character   Median : 56448   Median : -0.0309  \n",
       "                    Mean   : 73295   Mean   : -0.1256  \n",
       "                    3rd Qu.:102164   3rd Qu.:  2.3553  \n",
       "                    Max.   :146832   Max.   : 14.2979  "
      ]
     },
     "metadata": {},
     "output_type": "display_data"
    },
    {
     "name": "stdout",
     "output_type": "stream",
     "text": [
      "tibble [171 x 3] (S3: tbl_df/tbl/data.frame)\n",
      " $ fecha : chr [1:171] \"T180\" \"T280\" \"T380\" \"T480\" ...\n",
      " $ pbi   : num [1:171] 36357 43102 42344 45792 39026 ...\n",
      " $ brecha: num [1:171] -4.986 -2.406 -0.863 1.193 2.433 ...\n"
     ]
    },
    {
     "data": {
      "text/html": [
       "<table class=\"dataframe\">\n",
       "<caption>A tibble: 6 × 3</caption>\n",
       "<thead>\n",
       "\t<tr><th scope=col>fecha</th><th scope=col>pbi</th><th scope=col>brecha</th></tr>\n",
       "\t<tr><th scope=col>&lt;chr&gt;</th><th scope=col>&lt;dbl&gt;</th><th scope=col>&lt;dbl&gt;</th></tr>\n",
       "</thead>\n",
       "<tbody>\n",
       "\t<tr><td>T180</td><td>36357.48</td><td>-4.9864046</td></tr>\n",
       "\t<tr><td>T280</td><td>43102.11</td><td>-2.4059839</td></tr>\n",
       "\t<tr><td>T380</td><td>42344.48</td><td>-0.8632405</td></tr>\n",
       "\t<tr><td>T480</td><td>45791.93</td><td> 1.1926728</td></tr>\n",
       "\t<tr><td>T181</td><td>39025.87</td><td> 2.4328367</td></tr>\n",
       "\t<tr><td>T281</td><td>45857.89</td><td> 3.7361968</td></tr>\n",
       "</tbody>\n",
       "</table>\n"
      ],
      "text/latex": [
       "A tibble: 6 × 3\n",
       "\\begin{tabular}{lll}\n",
       " fecha & pbi & brecha\\\\\n",
       " <chr> & <dbl> & <dbl>\\\\\n",
       "\\hline\n",
       "\t T180 & 36357.48 & -4.9864046\\\\\n",
       "\t T280 & 43102.11 & -2.4059839\\\\\n",
       "\t T380 & 42344.48 & -0.8632405\\\\\n",
       "\t T480 & 45791.93 &  1.1926728\\\\\n",
       "\t T181 & 39025.87 &  2.4328367\\\\\n",
       "\t T281 & 45857.89 &  3.7361968\\\\\n",
       "\\end{tabular}\n"
      ],
      "text/markdown": [
       "\n",
       "A tibble: 6 × 3\n",
       "\n",
       "| fecha &lt;chr&gt; | pbi &lt;dbl&gt; | brecha &lt;dbl&gt; |\n",
       "|---|---|---|\n",
       "| T180 | 36357.48 | -4.9864046 |\n",
       "| T280 | 43102.11 | -2.4059839 |\n",
       "| T380 | 42344.48 | -0.8632405 |\n",
       "| T480 | 45791.93 |  1.1926728 |\n",
       "| T181 | 39025.87 |  2.4328367 |\n",
       "| T281 | 45857.89 |  3.7361968 |\n",
       "\n"
      ],
      "text/plain": [
       "  fecha pbi      brecha    \n",
       "1 T180  36357.48 -4.9864046\n",
       "2 T280  43102.11 -2.4059839\n",
       "3 T380  42344.48 -0.8632405\n",
       "4 T480  45791.93  1.1926728\n",
       "5 T181  39025.87  2.4328367\n",
       "6 T281  45857.89  3.7361968"
      ]
     },
     "metadata": {},
     "output_type": "display_data"
    }
   ],
   "source": [
    "# Se agrega el calculo de la brecha a la data original\n",
    "data$brecha <- as.numeric(brecha_part)\n",
    "\n",
    "summary(data)\n",
    "\n",
    "data %>% str()\n",
    "data %>% head()\n"
   ]
  },
  {
   "cell_type": "code",
   "execution_count": 29,
   "id": "d154f6de-1026-40f8-8b0b-c786a46aa2b1",
   "metadata": {},
   "outputs": [
    {
     "data": {
      "text/html": [
       "<table class=\"dataframe\">\n",
       "<caption>A tibble: 6 × 4</caption>\n",
       "<thead>\n",
       "\t<tr><th scope=col>fecha</th><th scope=col>pbi</th><th scope=col>brecha</th><th scope=col>anual</th></tr>\n",
       "\t<tr><th scope=col>&lt;chr&gt;</th><th scope=col>&lt;dbl&gt;</th><th scope=col>&lt;dbl&gt;</th><th scope=col>&lt;chr&gt;</th></tr>\n",
       "</thead>\n",
       "<tbody>\n",
       "\t<tr><td>T180</td><td>36357.48</td><td>-4.9864046</td><td>80</td></tr>\n",
       "\t<tr><td>T280</td><td>43102.11</td><td>-2.4059839</td><td>80</td></tr>\n",
       "\t<tr><td>T380</td><td>42344.48</td><td>-0.8632405</td><td>80</td></tr>\n",
       "\t<tr><td>T480</td><td>45791.93</td><td> 1.1926728</td><td>80</td></tr>\n",
       "\t<tr><td>T181</td><td>39025.87</td><td> 2.4328367</td><td>81</td></tr>\n",
       "\t<tr><td>T281</td><td>45857.89</td><td> 3.7361968</td><td>81</td></tr>\n",
       "</tbody>\n",
       "</table>\n"
      ],
      "text/latex": [
       "A tibble: 6 × 4\n",
       "\\begin{tabular}{llll}\n",
       " fecha & pbi & brecha & anual\\\\\n",
       " <chr> & <dbl> & <dbl> & <chr>\\\\\n",
       "\\hline\n",
       "\t T180 & 36357.48 & -4.9864046 & 80\\\\\n",
       "\t T280 & 43102.11 & -2.4059839 & 80\\\\\n",
       "\t T380 & 42344.48 & -0.8632405 & 80\\\\\n",
       "\t T480 & 45791.93 &  1.1926728 & 80\\\\\n",
       "\t T181 & 39025.87 &  2.4328367 & 81\\\\\n",
       "\t T281 & 45857.89 &  3.7361968 & 81\\\\\n",
       "\\end{tabular}\n"
      ],
      "text/markdown": [
       "\n",
       "A tibble: 6 × 4\n",
       "\n",
       "| fecha &lt;chr&gt; | pbi &lt;dbl&gt; | brecha &lt;dbl&gt; | anual &lt;chr&gt; |\n",
       "|---|---|---|---|\n",
       "| T180 | 36357.48 | -4.9864046 | 80 |\n",
       "| T280 | 43102.11 | -2.4059839 | 80 |\n",
       "| T380 | 42344.48 | -0.8632405 | 80 |\n",
       "| T480 | 45791.93 |  1.1926728 | 80 |\n",
       "| T181 | 39025.87 |  2.4328367 | 81 |\n",
       "| T281 | 45857.89 |  3.7361968 | 81 |\n",
       "\n"
      ],
      "text/plain": [
       "  fecha pbi      brecha     anual\n",
       "1 T180  36357.48 -4.9864046 80   \n",
       "2 T280  43102.11 -2.4059839 80   \n",
       "3 T380  42344.48 -0.8632405 80   \n",
       "4 T480  45791.93  1.1926728 80   \n",
       "5 T181  39025.87  2.4328367 81   \n",
       "6 T281  45857.89  3.7361968 81   "
      ]
     },
     "metadata": {},
     "output_type": "display_data"
    }
   ],
   "source": [
    "data$anual <- substr(data$fecha,3,4)\n",
    "data %>% head()"
   ]
  },
  {
   "cell_type": "code",
   "execution_count": 30,
   "id": "e8d7aa49-273f-4694-b134-a6319e1ffd83",
   "metadata": {},
   "outputs": [
    {
     "data": {
      "text/plain": [
       "\n",
       "00 01 02 03 04 05 06 07 08 09 10 11 12 13 14 15 16 17 18 19 20 21 22 80 81 82 \n",
       " 4  4  4  4  4  4  4  4  4  4  4  4  4  4  4  4  4  4  4  4  4  4  3  4  4  4 \n",
       "83 84 85 86 87 88 89 90 91 92 93 94 95 96 97 98 99 \n",
       " 4  4  4  4  4  4  4  4  4  4  4  4  4  4  4  4  4 "
      ]
     },
     "metadata": {},
     "output_type": "display_data"
    }
   ],
   "source": [
    "table(data$anual)"
   ]
  },
  {
   "cell_type": "code",
   "execution_count": 32,
   "id": "bc2be5ce-aef9-4f7c-a954-fc9ec22fff58",
   "metadata": {},
   "outputs": [
    {
     "data": {
      "text/plain": [
       "\n",
       "     2019 2020 2021 2022 \n",
       " 156    4    4    4    3 "
      ]
     },
     "metadata": {},
     "output_type": "display_data"
    }
   ],
   "source": [
    "# Calculo de rango de fechas\n",
    "data$periodo <- ifelse(data$anual==\"19\",\"2019\",ifelse(data$anual==\"20\",\"2020\",ifelse(data$anual==\"21\",\"2021\",ifelse(data$anual==\"22\",\"2022\",\"\"))))\n",
    "#data$periodo <- ifelse(data$fecha<=1990,\"1980-1990\",ifelse(data$fecha>1990 & data$fecha<=2000, \"1991-2000\",ifelse(data$fecha>2000 & data$fecha<=2010, \"2001-2010\",\"2011-2019\")))\n",
    "table(data$periodo)"
   ]
  },
  {
   "cell_type": "code",
   "execution_count": 33,
   "id": "0e27ecae-7bdc-4e6d-b03d-096fb2e11871",
   "metadata": {},
   "outputs": [
    {
     "data": {
      "text/html": [
       "<table class=\"dataframe\">\n",
       "<caption>A tibble: 5 × 2</caption>\n",
       "<thead>\n",
       "\t<tr><th scope=col>periodo</th><th scope=col>Promedio</th></tr>\n",
       "\t<tr><th scope=col>&lt;chr&gt;</th><th scope=col>&lt;dbl&gt;</th></tr>\n",
       "</thead>\n",
       "<tbody>\n",
       "\t<tr><td>    </td><td> -0.01834498</td></tr>\n",
       "\t<tr><td>2019</td><td>  3.60340116</td></tr>\n",
       "\t<tr><td>2020</td><td>-11.65471746</td></tr>\n",
       "\t<tr><td>2021</td><td>  1.59401147</td></tr>\n",
       "\t<tr><td>2022</td><td>  2.40646814</td></tr>\n",
       "</tbody>\n",
       "</table>\n"
      ],
      "text/latex": [
       "A tibble: 5 × 2\n",
       "\\begin{tabular}{ll}\n",
       " periodo & Promedio\\\\\n",
       " <chr> & <dbl>\\\\\n",
       "\\hline\n",
       "\t      &  -0.01834498\\\\\n",
       "\t 2019 &   3.60340116\\\\\n",
       "\t 2020 & -11.65471746\\\\\n",
       "\t 2021 &   1.59401147\\\\\n",
       "\t 2022 &   2.40646814\\\\\n",
       "\\end{tabular}\n"
      ],
      "text/markdown": [
       "\n",
       "A tibble: 5 × 2\n",
       "\n",
       "| periodo &lt;chr&gt; | Promedio &lt;dbl&gt; |\n",
       "|---|---|\n",
       "| <!----> |  -0.01834498 |\n",
       "| 2019 |   3.60340116 |\n",
       "| 2020 | -11.65471746 |\n",
       "| 2021 |   1.59401147 |\n",
       "| 2022 |   2.40646814 |\n",
       "\n"
      ],
      "text/plain": [
       "  periodo Promedio    \n",
       "1          -0.01834498\n",
       "2 2019      3.60340116\n",
       "3 2020    -11.65471746\n",
       "4 2021      1.59401147\n",
       "5 2022      2.40646814"
      ]
     },
     "metadata": {},
     "output_type": "display_data"
    }
   ],
   "source": [
    "# Estadisticas descriptivas por grupo\n",
    "Tabla_brecha <- data %>% group_by(periodo) %>% summarise(Promedio = mean(brecha))\n",
    "Tabla_brecha"
   ]
  },
  {
   "cell_type": "code",
   "execution_count": null,
   "id": "76bd9055-4ae8-4ecc-8d1c-197fb67a249a",
   "metadata": {},
   "outputs": [],
   "source": []
  }
 ],
 "metadata": {
  "kernelspec": {
   "display_name": "R",
   "language": "R",
   "name": "ir"
  },
  "language_info": {
   "codemirror_mode": "r",
   "file_extension": ".r",
   "mimetype": "text/x-r-source",
   "name": "R",
   "pygments_lexer": "r",
   "version": "4.1.3"
  },
  "toc-autonumbering": true
 },
 "nbformat": 4,
 "nbformat_minor": 5
}
