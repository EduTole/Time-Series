{
 "cells": [
  {
   "cell_type": "markdown",
   "id": "4f18e2d2-e05a-4c10-8b34-c6d77fb2d949",
   "metadata": {},
   "source": [
    "# CURSO :\n",
    "Analisis de la informacion de datos en R"
   ]
  },
  {
   "cell_type": "markdown",
   "id": "c6960fbf-a02a-4b2c-805c-96750c8f8509",
   "metadata": {},
   "source": [
    "# Importar Data"
   ]
  },
  {
   "cell_type": "markdown",
   "id": "5057583a-4e4d-4c2f-894d-fef2e45bb1b7",
   "metadata": {},
   "source": [
    "## Carga de Librerias"
   ]
  },
  {
   "cell_type": "code",
   "execution_count": 40,
   "id": "68edacd4-e23d-4fde-9373-5a7c873e3128",
   "metadata": {},
   "outputs": [],
   "source": [
    "library(dplyr)\n",
    "library(readr)\n",
    "library(readxl)\n",
    "require(openxlsx)"
   ]
  },
  {
   "cell_type": "markdown",
   "id": "8c1cea5a-2ed7-4f78-8f3d-b796632d3cb8",
   "metadata": {},
   "source": [
    "## Ruta de carpeta"
   ]
  },
  {
   "cell_type": "code",
   "execution_count": 41,
   "id": "80defa5a-ab30-49cc-a58b-053a26d15f01",
   "metadata": {},
   "outputs": [],
   "source": [
    "# Se define la informacion de una ruta de carpeta\n",
    "ruta = 'D:/Dropbox/Docencia/UPN/Estadistica/Software/L1'\n",
    "\n",
    "# Se cambia la informacion de la ruta con el comando: os.chdir()\n",
    "setwd(ruta)"
   ]
  },
  {
   "cell_type": "markdown",
   "id": "4e098d91-f974-4f1c-b29e-bd69d539703b",
   "metadata": {},
   "source": [
    "## Carga de Datos "
   ]
  },
  {
   "cell_type": "code",
   "execution_count": 42,
   "id": "66541dad-0ea4-4064-9636-0ec787f78c3e",
   "metadata": {},
   "outputs": [],
   "source": [
    "data = read_excel('pbi_anual.xlsx')"
   ]
  },
  {
   "cell_type": "markdown",
   "id": "b8e5d6b1-f784-488a-8beb-50bdf1ac519b",
   "metadata": {},
   "source": [
    "## Manipulacion de datos"
   ]
  },
  {
   "cell_type": "code",
   "execution_count": 43,
   "id": "d4d554a5-a8a8-439a-9ae8-cc52a21311c5",
   "metadata": {},
   "outputs": [
    {
     "data": {
      "text/html": [
       "<table class=\"dataframe\">\n",
       "<caption>A tibble: 5 × 2</caption>\n",
       "<thead>\n",
       "\t<tr><th scope=col>fecha</th><th scope=col>pbi</th></tr>\n",
       "\t<tr><th scope=col>&lt;dbl&gt;</th><th scope=col>&lt;dbl&gt;</th></tr>\n",
       "</thead>\n",
       "<tbody>\n",
       "\t<tr><td>1980</td><td>167596</td></tr>\n",
       "\t<tr><td>1981</td><td>176901</td></tr>\n",
       "\t<tr><td>1982</td><td>176507</td></tr>\n",
       "\t<tr><td>1983</td><td>158136</td></tr>\n",
       "\t<tr><td>1984</td><td>163842</td></tr>\n",
       "</tbody>\n",
       "</table>\n"
      ],
      "text/latex": [
       "A tibble: 5 × 2\n",
       "\\begin{tabular}{ll}\n",
       " fecha & pbi\\\\\n",
       " <dbl> & <dbl>\\\\\n",
       "\\hline\n",
       "\t 1980 & 167596\\\\\n",
       "\t 1981 & 176901\\\\\n",
       "\t 1982 & 176507\\\\\n",
       "\t 1983 & 158136\\\\\n",
       "\t 1984 & 163842\\\\\n",
       "\\end{tabular}\n"
      ],
      "text/markdown": [
       "\n",
       "A tibble: 5 × 2\n",
       "\n",
       "| fecha &lt;dbl&gt; | pbi &lt;dbl&gt; |\n",
       "|---|---|\n",
       "| 1980 | 167596 |\n",
       "| 1981 | 176901 |\n",
       "| 1982 | 176507 |\n",
       "| 1983 | 158136 |\n",
       "| 1984 | 163842 |\n",
       "\n"
      ],
      "text/plain": [
       "  fecha pbi   \n",
       "1 1980  167596\n",
       "2 1981  176901\n",
       "3 1982  176507\n",
       "4 1983  158136\n",
       "5 1984  163842"
      ]
     },
     "metadata": {},
     "output_type": "display_data"
    }
   ],
   "source": [
    "data %>% head(5)"
   ]
  },
  {
   "cell_type": "code",
   "execution_count": 44,
   "id": "4333c698-7ee1-4caf-9573-623d0be70442",
   "metadata": {},
   "outputs": [
    {
     "data": {
      "image/png": "[encoded data removed]",
      "text/plain": [
       "Plot with title \"PBI (Mil millones)\""
      ]
     },
     "metadata": {
      "image/png": {
       "height": 420,
       "width": 420
      }
     },
     "output_type": "display_data"
    }
   ],
   "source": [
    "plot(data$fecha, (data$pbi)/1000, type='l', main='PBI (Mil millones)')"
   ]
  },
  {
   "cell_type": "code",
   "execution_count": 45,
   "id": "377531c2-c4f4-4c80-8d7a-82917638daaa",
   "metadata": {},
   "outputs": [
    {
     "data": {
      "text/html": [
       "<table class=\"dataframe\">\n",
       "<caption>A tibble: 6 × 3</caption>\n",
       "<thead>\n",
       "\t<tr><th scope=col>fecha</th><th scope=col>pbi</th><th scope=col>growth</th></tr>\n",
       "\t<tr><th scope=col>&lt;dbl&gt;</th><th scope=col>&lt;dbl&gt;</th><th scope=col>&lt;dbl&gt;</th></tr>\n",
       "</thead>\n",
       "<tbody>\n",
       "\t<tr><td>1980</td><td>167596</td><td>          NA</td></tr>\n",
       "\t<tr><td>1981</td><td>176901</td><td> 0.055520418</td></tr>\n",
       "\t<tr><td>1982</td><td>176507</td><td>-0.002227234</td></tr>\n",
       "\t<tr><td>1983</td><td>158136</td><td>-0.104080858</td></tr>\n",
       "\t<tr><td>1984</td><td>163842</td><td> 0.036082865</td></tr>\n",
       "\t<tr><td>1985</td><td>167219</td><td> 0.020611321</td></tr>\n",
       "</tbody>\n",
       "</table>\n"
      ],
      "text/latex": [
       "A tibble: 6 × 3\n",
       "\\begin{tabular}{lll}\n",
       " fecha & pbi & growth\\\\\n",
       " <dbl> & <dbl> & <dbl>\\\\\n",
       "\\hline\n",
       "\t 1980 & 167596 &           NA\\\\\n",
       "\t 1981 & 176901 &  0.055520418\\\\\n",
       "\t 1982 & 176507 & -0.002227234\\\\\n",
       "\t 1983 & 158136 & -0.104080858\\\\\n",
       "\t 1984 & 163842 &  0.036082865\\\\\n",
       "\t 1985 & 167219 &  0.020611321\\\\\n",
       "\\end{tabular}\n"
      ],
      "text/markdown": [
       "\n",
       "A tibble: 6 × 3\n",
       "\n",
       "| fecha &lt;dbl&gt; | pbi &lt;dbl&gt; | growth &lt;dbl&gt; |\n",
       "|---|---|---|\n",
       "| 1980 | 167596 |           NA |\n",
       "| 1981 | 176901 |  0.055520418 |\n",
       "| 1982 | 176507 | -0.002227234 |\n",
       "| 1983 | 158136 | -0.104080858 |\n",
       "| 1984 | 163842 |  0.036082865 |\n",
       "| 1985 | 167219 |  0.020611321 |\n",
       "\n"
      ],
      "text/plain": [
       "  fecha pbi    growth      \n",
       "1 1980  167596           NA\n",
       "2 1981  176901  0.055520418\n",
       "3 1982  176507 -0.002227234\n",
       "4 1983  158136 -0.104080858\n",
       "5 1984  163842  0.036082865\n",
       "6 1985  167219  0.020611321"
      ]
     },
     "metadata": {},
     "output_type": "display_data"
    }
   ],
   "source": [
    "# Midiendo la tasa de crecimiento\n",
    "data <- data %>% mutate(growth= (pbi-lag(pbi))/lag(pbi))\n",
    "data %>% head()\n"
   ]
  },
  {
   "cell_type": "code",
   "execution_count": 46,
   "id": "a5198941-15fb-4a1b-bf31-626a541a5afc",
   "metadata": {},
   "outputs": [
    {
     "data": {
      "image/png": "[encoded data removed]",
      "text/plain": [
       "Plot with title \"PBI (tasa de crecimiento)\""
      ]
     },
     "metadata": {
      "image/png": {
       "height": 420,
       "width": 420
      }
     },
     "output_type": "display_data"
    }
   ],
   "source": [
    "plot(data$fecha, (data$growth)*100, type='l', main='PBI (tasa de crecimiento)')"
   ]
  },
  {
   "cell_type": "markdown",
   "id": "3980a66a-ef22-4f33-aae4-ccebaf0ff92c",
   "metadata": {},
   "source": [
    "## Analisis descriptivo general"
   ]
  },
  {
   "cell_type": "code",
   "execution_count": 47,
   "id": "6f907d95-19f7-45b9-aa24-a709c4ee3e04",
   "metadata": {},
   "outputs": [
    {
     "data": {
      "text/plain": [
       "     fecha           pbi             growth        \n",
       " Min.   :1980   Min.   :151492   Min.   :-0.12312  \n",
       " 1st Qu.:1990   1st Qu.:178131   1st Qu.: 0.01495  \n",
       " Median :2000   Median :222893   Median : 0.03953  \n",
       " Mean   :2000   Mean   :288480   Mean   : 0.03121  \n",
       " 3rd Qu.:2011   3rd Qu.:400212   3rd Qu.: 0.06327  \n",
       " Max.   :2021   Max.   :552312   Max.   : 0.13551  \n",
       "                                 NA's   :1         "
      ]
     },
     "metadata": {},
     "output_type": "display_data"
    }
   ],
   "source": [
    "summary(data)"
   ]
  },
  {
   "cell_type": "markdown",
   "id": "607a6dec-4004-4e99-9bcc-add91ddf44b3",
   "metadata": {},
   "source": [
    "# Medicicion de la Brechas Producto"
   ]
  },
  {
   "cell_type": "markdown",
   "id": "6f758596-e8d4-4e5e-a613-89806d74ad3e",
   "metadata": {},
   "source": [
    "## Uso de librerias "
   ]
  },
  {
   "cell_type": "code",
   "execution_count": 48,
   "id": "7823e2d4-7c42-41b2-a13d-b850c6248e7f",
   "metadata": {},
   "outputs": [
    {
     "name": "stderr",
     "output_type": "stream",
     "text": [
      "Warning message:\n",
      "\"package 'mFilter' is in use and will not be installed\"\n"
     ]
    }
   ],
   "source": [
    "install.packages(\"mFilter\")\n",
    "library(mFilter)"
   ]
  },
  {
   "cell_type": "code",
   "execution_count": 49,
   "id": "cd2e72b1-24a8-4f5a-91d8-9cc785f9cf61",
   "metadata": {
    "tags": [],
    "toc-hr-collapsed": true
   },
   "outputs": [
    {
     "data": {
      "text/html": [
       "A Time Series:<br><style>\n",
       ".list-inline {list-style: none; margin:0; padding: 0}\n",
       ".list-inline>li {display: inline-block}\n",
       ".list-inline>li:not(:last-child)::after {content: \"\\00b7\"; padding: 0 .5ex}\n",
       "</style>\n",
       "<ol class=list-inline><li>167596</li><li>176901</li><li>176507</li><li>158136</li><li>163842</li><li>167219</li><li>182981</li><li>200778</li><li>181822</li><li>159436</li><li>151492</li><li>154854</li><li>154017</li><li>162093</li><li>182043.671320207</li><li>195535.99143694</li><li>201009.289724016</li><li>214028.291389057</li><li>213189.993392589</li><li>216376.740630514</li><li>222206.707348694</li><li>223579.575750618</li><li>235772.947128979</li><li>245592.61375299</li><li>257769.786233073</li><li>273971.153886791</li><li>294597.830810429</li><li>319693</li><li>348870</li><li>352693</li><li>382081</li><li>406256</li><li>431199</li><li>456435</li><li>467308</li><li>482506</li><li>501581</li><li>514215</li><li>534665</li><li>546605</li><li>486402.0862783</li><li>552312.155429654</li></ol>\n"
      ],
      "text/latex": [
       "A Time Series:\\\\\\begin{enumerate*}\n",
       "\\item 167596\n",
       "\\item 176901\n",
       "\\item 176507\n",
       "\\item 158136\n",
       "\\item 163842\n",
       "\\item 167219\n",
       "\\item 182981\n",
       "\\item 200778\n",
       "\\item 181822\n",
       "\\item 159436\n",
       "\\item 151492\n",
       "\\item 154854\n",
       "\\item 154017\n",
       "\\item 162093\n",
       "\\item 182043.671320207\n",
       "\\item 195535.99143694\n",
       "\\item 201009.289724016\n",
       "\\item 214028.291389057\n",
       "\\item 213189.993392589\n",
       "\\item 216376.740630514\n",
       "\\item 222206.707348694\n",
       "\\item 223579.575750618\n",
       "\\item 235772.947128979\n",
       "\\item 245592.61375299\n",
       "\\item 257769.786233073\n",
       "\\item 273971.153886791\n",
       "\\item 294597.830810429\n",
       "\\item 319693\n",
       "\\item 348870\n",
       "\\item 352693\n",
       "\\item 382081\n",
       "\\item 406256\n",
       "\\item 431199\n",
       "\\item 456435\n",
       "\\item 467308\n",
       "\\item 482506\n",
       "\\item 501581\n",
       "\\item 514215\n",
       "\\item 534665\n",
       "\\item 546605\n",
       "\\item 486402.0862783\n",
       "\\item 552312.155429654\n",
       "\\end{enumerate*}\n"
      ],
      "text/markdown": [
       "A Time Series:  \n",
       "1. 167596\n",
       "2. 176901\n",
       "3. 176507\n",
       "4. 158136\n",
       "5. 163842\n",
       "6. 167219\n",
       "7. 182981\n",
       "8. 200778\n",
       "9. 181822\n",
       "10. 159436\n",
       "11. 151492\n",
       "12. 154854\n",
       "13. 154017\n",
       "14. 162093\n",
       "15. 182043.671320207\n",
       "16. 195535.99143694\n",
       "17. 201009.289724016\n",
       "18. 214028.291389057\n",
       "19. 213189.993392589\n",
       "20. 216376.740630514\n",
       "21. 222206.707348694\n",
       "22. 223579.575750618\n",
       "23. 235772.947128979\n",
       "24. 245592.61375299\n",
       "25. 257769.786233073\n",
       "26. 273971.153886791\n",
       "27. 294597.830810429\n",
       "28. 319693\n",
       "29. 348870\n",
       "30. 352693\n",
       "31. 382081\n",
       "32. 406256\n",
       "33. 431199\n",
       "34. 456435\n",
       "35. 467308\n",
       "36. 482506\n",
       "37. 501581\n",
       "38. 514215\n",
       "39. 534665\n",
       "40. 546605\n",
       "41. 486402.0862783\n",
       "42. 552312.155429654\n",
       "\n",
       "\n"
      ],
      "text/plain": [
       "A Time Series:\n",
       " [1] 167596.0 176901.0 176507.0 158136.0 163842.0 167219.0 182981.0 200778.0\n",
       " [9] 181822.0 159436.0 151492.0 154854.0 154017.0 162093.0 182043.7 195536.0\n",
       "[17] 201009.3 214028.3 213190.0 216376.7 222206.7 223579.6 235772.9 245592.6\n",
       "[25] 257769.8 273971.2 294597.8 319693.0 348870.0 352693.0 382081.0 406256.0\n",
       "[33] 431199.0 456435.0 467308.0 482506.0 501581.0 514215.0 534665.0 546605.0\n",
       "[41] 486402.1 552312.2"
      ]
     },
     "metadata": {},
     "output_type": "display_data"
    }
   ],
   "source": [
    "#?mFilter\n",
    "# Transformamos en series de tiempo la data de PBI\n",
    "pbi_a <- ts(data$pbi, frequency = 1, start = c(1980,1))\n",
    "pbi_a"
   ]
  },
  {
   "cell_type": "code",
   "execution_count": 50,
   "id": "f03542c8-c7e4-4219-9cb1-068094da64f3",
   "metadata": {},
   "outputs": [
    {
     "data": {
      "image/png": "[encoded data removed]",
      "text/plain": [
       "plot without title"
      ]
     },
     "metadata": {
      "image/png": {
       "height": 420,
       "width": 420
      }
     },
     "output_type": "display_data"
    }
   ],
   "source": [
    "lnpbi <- log(pbi_a)\n",
    "plot(lnpbi)"
   ]
  },
  {
   "cell_type": "markdown",
   "id": "139570e5-71c0-4347-93b0-9b892e4935a1",
   "metadata": {},
   "source": [
    "## Aplicacion del filtro HP"
   ]
  },
  {
   "cell_type": "code",
   "execution_count": 51,
   "id": "d0902882-701b-4110-bfdf-4dee04dc84a7",
   "metadata": {},
   "outputs": [
    {
     "name": "stdout",
     "output_type": "stream",
     "text": [
      "\n",
      "Title:\n",
      " Hodrick-Prescott Filter \n",
      "\n",
      "Call:\n",
      " hpfilter(x = x, freq = ag$freq, type = ag$type, drift = ag$drift)\n",
      "\n",
      "Method:\n",
      " hpfilter\n",
      "\n",
      "Filter Type:\n",
      " lambda\n",
      "\n",
      "Series:\n",
      " lnpbi\n",
      "\n",
      "Descriptive Statistics:\n",
      " \n",
      "     lnpbi           Trend           Cycle          \n",
      " Min.   :11.93   Min.   :11.98   Min.   :-0.086197  \n",
      " 1st Qu.:12.09   1st Qu.:12.06   1st Qu.:-0.020478  \n",
      " Median :12.31   Median :12.33   Median :-0.002156  \n",
      " Mean   :12.47   Mean   :12.47   Mean   : 0.000000  \n",
      " 3rd Qu.:12.90   3rd Qu.:12.90   3rd Qu.: 0.024792  \n",
      " Max.   :13.22   Max.   :13.19   Max.   : 0.127514  \n",
      "\n",
      "In-sample error measures:\n",
      "        ME        MSE        MAE        MPE       MAPE \n",
      "-5.778e-19  1.360e-03  2.655e-02 -1.322e-05  2.156e-03 \n",
      "\n"
     ]
    }
   ],
   "source": [
    "lnpbi_hp <- mFilter(lnpbi, filter=\"HP\")\n",
    "#unemp.hp <- mFilter(unemp,filter=\"HP\")\n",
    "summary(lnpbi_hp)"
   ]
  },
  {
   "cell_type": "markdown",
   "id": "9aa765bd-ce2f-4135-b878-13849b6564f2",
   "metadata": {},
   "source": [
    "## Extrayendo la tendencia"
   ]
  },
  {
   "cell_type": "code",
   "execution_count": 52,
   "id": "577d1577-8664-496d-97d8-75df56b43d91",
   "metadata": {},
   "outputs": [
    {
     "data": {
      "image/png": "[encoded data removed]",
      "text/plain": [
       "plot without title"
      ]
     },
     "metadata": {
      "image/png": {
       "height": 420,
       "width": 420
      }
     },
     "output_type": "display_data"
    }
   ],
   "source": [
    "lnpbitend <- lnpbi_hp$trend\n",
    "plot(lnpbitend)\n",
    "lines(lnpbi)"
   ]
  },
  {
   "cell_type": "markdown",
   "id": "2eee4d14-8a05-45aa-97b1-bb11b12614ad",
   "metadata": {},
   "source": [
    "## Calculo de la Brecha Producto"
   ]
  },
  {
   "cell_type": "code",
   "execution_count": 53,
   "id": "4adc4b26-081f-4a77-9896-05dfbfa8c62a",
   "metadata": {},
   "outputs": [
    {
     "data": {
      "image/png": "[encoded data removed]",
      "text/plain": [
       "plot without title"
      ]
     },
     "metadata": {
      "image/png": {
       "height": 420,
       "width": 420
      }
     },
     "output_type": "display_data"
    }
   ],
   "source": [
    "brecha <- exp(lnpbi) - exp(lnpbitend)\n",
    "brecha_part <- (brecha / (pbi_a) )*100\n",
    "plot(brecha_part)"
   ]
  },
  {
   "cell_type": "code",
   "execution_count": 54,
   "id": "92e7eeb6-029e-490c-9445-bc8fe94533fc",
   "metadata": {},
   "outputs": [
    {
     "data": {
      "text/plain": [
       "     fecha           pbi             growth             brecha        \n",
       " Min.   :1980   Min.   :151492   Min.   :-0.12312   Min.   :-9.00208  \n",
       " 1st Qu.:1990   1st Qu.:178131   1st Qu.: 0.01495   1st Qu.:-2.06919  \n",
       " Median :2000   Median :222893   Median : 0.03953   Median :-0.21585  \n",
       " Mean   :2000   Mean   :288480   Mean   : 0.03121   Mean   :-0.06762  \n",
       " 3rd Qu.:2011   3rd Qu.:400212   3rd Qu.: 0.06327   3rd Qu.: 2.44867  \n",
       " Max.   :2021   Max.   :552312   Max.   : 0.13551   Max.   :11.97186  \n",
       "                                 NA's   :1                            "
      ]
     },
     "metadata": {},
     "output_type": "display_data"
    },
    {
     "name": "stdout",
     "output_type": "stream",
     "text": [
      "tibble [42 x 4] (S3: tbl_df/tbl/data.frame)\n",
      " $ fecha : num [1:42] 1980 1981 1982 1983 1984 ...\n",
      " $ pbi   : num [1:42] 167596 176901 176507 158136 163842 ...\n",
      " $ growth: num [1:42] NA 0.05552 -0.00223 -0.10408 0.03608 ...\n",
      " $ brecha: num [1:42] -1.69 3.66 3.72 -7.22 -4.33 ...\n"
     ]
    },
    {
     "data": {
      "text/html": [
       "<table class=\"dataframe\">\n",
       "<caption>A tibble: 6 × 4</caption>\n",
       "<thead>\n",
       "\t<tr><th scope=col>fecha</th><th scope=col>pbi</th><th scope=col>growth</th><th scope=col>brecha</th></tr>\n",
       "\t<tr><th scope=col>&lt;dbl&gt;</th><th scope=col>&lt;dbl&gt;</th><th scope=col>&lt;dbl&gt;</th><th scope=col>&lt;dbl&gt;</th></tr>\n",
       "</thead>\n",
       "<tbody>\n",
       "\t<tr><td>1980</td><td>167596</td><td>          NA</td><td>-1.691328</td></tr>\n",
       "\t<tr><td>1981</td><td>176901</td><td> 0.055520418</td><td> 3.663980</td></tr>\n",
       "\t<tr><td>1982</td><td>176507</td><td>-0.002227234</td><td> 3.724788</td></tr>\n",
       "\t<tr><td>1983</td><td>158136</td><td>-0.104080858</td><td>-7.220298</td></tr>\n",
       "\t<tr><td>1984</td><td>163842</td><td> 0.036082865</td><td>-4.333374</td></tr>\n",
       "\t<tr><td>1985</td><td>167219</td><td> 0.020611321</td><td>-3.944691</td></tr>\n",
       "</tbody>\n",
       "</table>\n"
      ],
      "text/latex": [
       "A tibble: 6 × 4\n",
       "\\begin{tabular}{llll}\n",
       " fecha & pbi & growth & brecha\\\\\n",
       " <dbl> & <dbl> & <dbl> & <dbl>\\\\\n",
       "\\hline\n",
       "\t 1980 & 167596 &           NA & -1.691328\\\\\n",
       "\t 1981 & 176901 &  0.055520418 &  3.663980\\\\\n",
       "\t 1982 & 176507 & -0.002227234 &  3.724788\\\\\n",
       "\t 1983 & 158136 & -0.104080858 & -7.220298\\\\\n",
       "\t 1984 & 163842 &  0.036082865 & -4.333374\\\\\n",
       "\t 1985 & 167219 &  0.020611321 & -3.944691\\\\\n",
       "\\end{tabular}\n"
      ],
      "text/markdown": [
       "\n",
       "A tibble: 6 × 4\n",
       "\n",
       "| fecha &lt;dbl&gt; | pbi &lt;dbl&gt; | growth &lt;dbl&gt; | brecha &lt;dbl&gt; |\n",
       "|---|---|---|---|\n",
       "| 1980 | 167596 |           NA | -1.691328 |\n",
       "| 1981 | 176901 |  0.055520418 |  3.663980 |\n",
       "| 1982 | 176507 | -0.002227234 |  3.724788 |\n",
       "| 1983 | 158136 | -0.104080858 | -7.220298 |\n",
       "| 1984 | 163842 |  0.036082865 | -4.333374 |\n",
       "| 1985 | 167219 |  0.020611321 | -3.944691 |\n",
       "\n"
      ],
      "text/plain": [
       "  fecha pbi    growth       brecha   \n",
       "1 1980  167596           NA -1.691328\n",
       "2 1981  176901  0.055520418  3.663980\n",
       "3 1982  176507 -0.002227234  3.724788\n",
       "4 1983  158136 -0.104080858 -7.220298\n",
       "5 1984  163842  0.036082865 -4.333374\n",
       "6 1985  167219  0.020611321 -3.944691"
      ]
     },
     "metadata": {},
     "output_type": "display_data"
    }
   ],
   "source": [
    "# Se agrega el calculo de la brecha a la data original\n",
    "data$brecha <- as.numeric(brecha_part)\n",
    "\n",
    "summary(data)\n",
    "\n",
    "data %>% str()\n",
    "data %>% head()\n"
   ]
  },
  {
   "cell_type": "code",
   "execution_count": 55,
   "id": "bc2be5ce-aef9-4f7c-a954-fc9ec22fff58",
   "metadata": {},
   "outputs": [
    {
     "data": {
      "text/plain": [
       "\n",
       "1980-1990 1991-2000 2001-2010 2011-2019 \n",
       "       11        10        10        11 "
      ]
     },
     "metadata": {},
     "output_type": "display_data"
    }
   ],
   "source": [
    "# Calculo de rango de fechas\n",
    "data$periodo <- ifelse(data$fecha<=1990,\"1980-1990\",ifelse(data$fecha>1990 & data$fecha<=2000, \"1991-2000\",ifelse(data$fecha>2000 & data$fecha<=2010, \"2001-2010\",\"2011-2019\")))\n",
    "table(data$periodo)"
   ]
  },
  {
   "cell_type": "code",
   "execution_count": 56,
   "id": "0e27ecae-7bdc-4e6d-b03d-096fb2e11871",
   "metadata": {},
   "outputs": [
    {
     "data": {
      "text/html": [
       "<table class=\"dataframe\">\n",
       "<caption>A tibble: 4 × 2</caption>\n",
       "<thead>\n",
       "\t<tr><th scope=col>periodo</th><th scope=col>Promedio</th></tr>\n",
       "\t<tr><th scope=col>&lt;chr&gt;</th><th scope=col>&lt;dbl&gt;</th></tr>\n",
       "</thead>\n",
       "<tbody>\n",
       "\t<tr><td>1980-1990</td><td> 0.05986490</td></tr>\n",
       "\t<tr><td>1991-2000</td><td>-0.02678439</td></tr>\n",
       "\t<tr><td>2001-2010</td><td>-0.36728693</td></tr>\n",
       "\t<tr><td>2011-2019</td><td> 0.04018704</td></tr>\n",
       "</tbody>\n",
       "</table>\n"
      ],
      "text/latex": [
       "A tibble: 4 × 2\n",
       "\\begin{tabular}{ll}\n",
       " periodo & Promedio\\\\\n",
       " <chr> & <dbl>\\\\\n",
       "\\hline\n",
       "\t 1980-1990 &  0.05986490\\\\\n",
       "\t 1991-2000 & -0.02678439\\\\\n",
       "\t 2001-2010 & -0.36728693\\\\\n",
       "\t 2011-2019 &  0.04018704\\\\\n",
       "\\end{tabular}\n"
      ],
      "text/markdown": [
       "\n",
       "A tibble: 4 × 2\n",
       "\n",
       "| periodo &lt;chr&gt; | Promedio &lt;dbl&gt; |\n",
       "|---|---|\n",
       "| 1980-1990 |  0.05986490 |\n",
       "| 1991-2000 | -0.02678439 |\n",
       "| 2001-2010 | -0.36728693 |\n",
       "| 2011-2019 |  0.04018704 |\n",
       "\n"
      ],
      "text/plain": [
       "  periodo   Promedio   \n",
       "1 1980-1990  0.05986490\n",
       "2 1991-2000 -0.02678439\n",
       "3 2001-2010 -0.36728693\n",
       "4 2011-2019  0.04018704"
      ]
     },
     "metadata": {},
     "output_type": "display_data"
    }
   ],
   "source": [
    "# Estadisticas descriptivas por grupo\n",
    "Tabla_brecha <- data %>% group_by(periodo) %>% summarise(Promedio = mean(brecha))\n",
    "Tabla_brecha"
   ]
  },
  {
   "cell_type": "code",
   "execution_count": null,
   "id": "76bd9055-4ae8-4ecc-8d1c-197fb67a249a",
   "metadata": {},
   "outputs": [],
   "source": []
  }
 ],
 "metadata": {
  "kernelspec": {
   "display_name": "R",
   "language": "R",
   "name": "ir"
  },
  "language_info": {
   "codemirror_mode": "r",
   "file_extension": ".r",
   "mimetype": "text/x-r-source",
   "name": "R",
   "pygments_lexer": "r",
   "version": "4.1.3"
  },
  "toc-autonumbering": true
 },
 "nbformat": 4,
 "nbformat_minor": 5
}
